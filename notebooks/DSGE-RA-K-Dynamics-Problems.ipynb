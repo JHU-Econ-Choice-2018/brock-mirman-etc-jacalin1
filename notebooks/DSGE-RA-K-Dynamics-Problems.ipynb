{
 "cells": [
  {
   "cell_type": "markdown",
   "metadata": {},
   "source": [
    "# Capital Dynamics in a Stochastic Growth Model"
   ]
  },
  {
   "cell_type": "markdown",
   "metadata": {},
   "source": [
    "The handout [BrockMirman](http://econ.jhu.edu/people/ccarroll/public/lecturenotes/DSGEmodels/BrockMirman) derived   some facts about a special case of a representative agent DSGE model where analytical results can be obtained.  This exercise asks you to explore this model and closely related ones further, numerically, by adapting tools from the [QuantEcon](https://lectures.quantecon.org/py/) treatment of [optimal growth](https://lectures.quantecon.org/py/optgrowth.html) (you should download their Jupyter notebook to get a start)."
   ]
  },
  {
   "cell_type": "markdown",
   "metadata": {},
   "source": [
    "## PROBLEM\n",
    "## Calculate theoretical variance of $k$\n",
    "The handout shows that if the productivity shocks $\\phi_{t}$ are iid and have variance $\\sigma^{2}_{\\phi}$ then\n",
    "\n",
    "$$\\newcommand{\\var}{\\text{var}}$$\n",
    "\\begin{eqnarray}\n",
    "k_{t+1} & = & \\log \\alpha \\beta + \\alpha k_{t} + \\phi_{t}\n",
    "\\end{eqnarray}\n",
    "\n",
    "Show that this implies that the variance of $k$ is \n",
    "\\begin{eqnarray}\n",
    " \\var(k) & = & \\frac{\\sigma^{2}_{\\phi}}{1-\\alpha^{2}}\n",
    "\\end{eqnarray}"
   ]
  },
  {
   "cell_type": "markdown",
   "metadata": {},
   "source": [
    "## Solution\n",
    "\n",
    "We have:\n",
    "\\begin{eqnarray}\n",
    "k_{t+1} & = & \\log \\alpha \\beta + \\alpha k_{t} + \\phi_{t}\n",
    "\\end{eqnarray}\n",
    "\n",
    "Thus taking the variance on both sides:\n",
    "$$ var(k_{t+1}) =  var(\\log \\alpha \\beta + \\alpha k_{t} + \\phi_{t}) $$\n",
    "\n",
    "$\\log \\alpha \\beta$ is constant:\n",
    "$$ var(k_{t+1}) = \\alpha ^2 var(k_{t}) + var(\\phi_{t}) + 2 cov(k_{t}, \\phi_{t}) $$\n",
    "\n",
    "Productivity shocks are iid and uncorrelated to $k_t$, thus using $var(k_{t}) = var(k_{t+1})$ and rearranging:\n",
    "$$ var(k) = \\frac{\\sigma ^2_{\\phi}}{1 - \\alpha^2} $$\n"
   ]
  },
  {
   "cell_type": "markdown",
   "metadata": {},
   "source": [
    "# PROBLEM\n",
    "## Simulate the economy and calculate $\\var(k)$\n",
    "\n",
    "Now using the QuantEcon tools, simulate the economy under the baseline parameter values and show that your simulation results correspond to the theoretical result"
   ]
  },
  {
   "cell_type": "markdown",
   "metadata": {},
   "source": [
    "## Solution (Setup)"
   ]
  },
  {
   "cell_type": "code",
   "execution_count": 1,
   "metadata": {
    "lines_to_next_cell": 2
   },
   "outputs": [],
   "source": [
    "## SETUP\n",
    "\n",
    "import numpy as np\n",
    "import matplotlib.pyplot as plt\n",
    "%matplotlib inline\n",
    "from interpolation import interp\n",
    "from numba import njit, prange\n",
    "from quantecon.optimize.scalar_maximization import brent_max\n",
    "\n",
    "class OptimalGrowthModel:\n",
    "\n",
    "    def __init__(self,\n",
    "                 f,                # Production function\n",
    "                 u,                # Utility function\n",
    "                 β=0.96,           # Discount factor\n",
    "                 μ=0,\n",
    "                 s=0.1,\n",
    "                 grid_max=4,\n",
    "                 grid_size=200,\n",
    "                 shock_size=250):\n",
    "\n",
    "        self.β, self.μ, self.s = β, μ, s\n",
    "        self.f, self.u = f, u\n",
    "\n",
    "        self.y_grid = np.linspace(1e-5, grid_max, grid_size)       # Set up grid\n",
    "        self.shocks = np.exp(μ + s * np.random.randn(shock_size))  # Store shocks\n",
    "  \n",
    "\n",
    "def operator_factory(og, parallel_flag=True):\n",
    "    \"\"\"\n",
    "    A function factory for building the Bellman operator, as well as\n",
    "    a function that computes greedy policies.\n",
    "    \n",
    "    Here og is an instance of OptimalGrowthModel.\n",
    "    \"\"\"\n",
    "\n",
    "    f, u, β = og.f, og.u, og.β\n",
    "    y_grid, shocks = og.y_grid, og.shocks\n",
    "\n",
    "    @njit\n",
    "    def objective(c, v, y):\n",
    "        \"\"\"\n",
    "        The right hand side of the Bellman equation\n",
    "        \"\"\"\n",
    "        # First turn v into a function via interpolation\n",
    "        v_func = lambda x: interp(y_grid, v, x)\n",
    "        return u(c) + β * np.mean(v_func(f(y - c) * shocks))\n",
    "\n",
    "    @njit(parallel=parallel_flag)\n",
    "    def T(v):\n",
    "        \"\"\"\n",
    "        The Bellman operator\n",
    "        \"\"\"\n",
    "        v_new = np.empty_like(v)\n",
    "        for i in prange(len(y_grid)):\n",
    "            y = y_grid[i]\n",
    "            # Solve for optimal v at y\n",
    "            v_max = brent_max(objective, 1e-10, y, args=(v, y))[1]  \n",
    "            v_new[i] = v_max\n",
    "        return v_new\n",
    "\n",
    "    @njit\n",
    "    def get_greedy(v):\n",
    "        \"\"\"\n",
    "        Computes the v-greedy policy of a given function v\n",
    "        \"\"\"\n",
    "        σ = np.empty_like(v)\n",
    "        for i in range(len(y_grid)):\n",
    "            y = y_grid[i]\n",
    "            # Solve for optimal c at y\n",
    "            c_max = brent_max(objective, 1e-10, y, args=(v, y))[0]  \n",
    "            σ[i] = c_max\n",
    "        return σ\n",
    "\n",
    "    return T, get_greedy        \n",
    "\n",
    "\n",
    "α = 0.4  # Production function parameter\n",
    "\n",
    "@njit\n",
    "def f(k):\n",
    "    \"\"\"\n",
    "    Cobb-Douglas production function\n",
    "    \"\"\"\n",
    "    return k**α\n",
    "\n",
    "og = OptimalGrowthModel(f=f, u=np.log)\n",
    "\n",
    "T, get_greedy = operator_factory(og)\n",
    "\n",
    "def solve_model(og,\n",
    "                use_parallel=True,\n",
    "                tol=1e-4, \n",
    "                max_iter=1000, \n",
    "                verbose=True,\n",
    "                print_skip=25): \n",
    "\n",
    "    T, _ = operator_factory(og, parallel_flag=use_parallel)\n",
    "\n",
    "    # Set up loop\n",
    "    v = np.log(og.y_grid)  # Initial condition\n",
    "    i = 0\n",
    "    error = tol + 1\n",
    "\n",
    "    while i < max_iter and error > tol:\n",
    "        v_new = T(v)\n",
    "        error = np.max(np.abs(v - v_new))\n",
    "        i += 1\n",
    "        if verbose and i % print_skip == 0:\n",
    "            print(f\"Error at iteration {i} is {error}.\")\n",
    "        v = v_new\n",
    "\n",
    "    if i == max_iter: \n",
    "        print(\"Failed to converge!\")\n",
    "\n",
    "    if verbose and i < max_iter:\n",
    "        print(f\"\\nConverged in {i} iterations.\")\n",
    "        \n",
    "    return v_new"
   ]
  },
  {
   "cell_type": "markdown",
   "metadata": {},
   "source": [
    "## Solution QuantEcon Q1."
   ]
  },
  {
   "cell_type": "code",
   "execution_count": 2,
   "metadata": {},
   "outputs": [
    {
     "data": {
      "image/png": "[encoded data removed]",
      "text/plain": [
       "<Figure size 648x432 with 1 Axes>"
      ]
     },
     "metadata": {
      "needs_background": "light"
     },
     "output_type": "display_data"
    }
   ],
   "source": [
    "def simulate_og(σ_func, og, α, y0=0.1, ts_length=100):\n",
    "    '''\n",
    "    Compute a time series given consumption policy σ.\n",
    "    '''\n",
    "    y = np.empty(ts_length)\n",
    "    ξ = np.random.randn(ts_length-1)\n",
    "    y[0] = y0\n",
    "    for t in range(ts_length-1):\n",
    "        y[t+1] = (y[t] - σ_func(y[t]))**α * np.exp(og.μ + og.s * ξ[t])\n",
    "    return y\n",
    "\n",
    "\n",
    "fig, ax = plt.subplots(figsize=(9, 6))\n",
    "\n",
    "for β in (0.8, 0.9, 0.98):\n",
    "\n",
    "    og = OptimalGrowthModel(f, np.log, β=β, s=0.05)\n",
    "    y_grid = og.y_grid\n",
    "\n",
    "    v_solution = solve_model(og, verbose=False)\n",
    "\n",
    "    σ_star = get_greedy(v_solution)\n",
    "    σ_func = lambda x: interp(y_grid, σ_star, x)  # Define an optimal policy function\n",
    "    y = simulate_og(σ_func, og, α)\n",
    "    ax.plot(y, lw=2, alpha=0.6, label=rf'$\\beta = {β}$')\n",
    "\n",
    "ax.legend(loc='lower right')\n",
    "plt.show()"
   ]
  },
  {
   "cell_type": "markdown",
   "metadata": {},
   "source": [
    "## Solution "
   ]
  },
  {
   "cell_type": "code",
   "execution_count": 5,
   "metadata": {},
   "outputs": [
    {
     "name": "stdout",
     "output_type": "stream",
     "text": [
      "\n",
      "Empirical variance is 0.0034 and theoretical variance is 0.00331.\n",
      "Thus, simulation results correspond to the theoretical result.\n"
     ]
    }
   ],
   "source": [
    "ts_length=500\n",
    "ξ = np.random.randn(ts_length-1)\n",
    "\n",
    "def simulate_og(σ_func, og, α, y0=0.1, ts_length=500):\n",
    "    '''\n",
    "    Compute a time series given consumption policy σ.\n",
    "    '''\n",
    "    y = np.empty(ts_length)\n",
    "    k = np.empty(ts_length)\n",
    "    #ξ = np.random.randn(ts_length-1)\n",
    "    shocks = np.empty(ts_length-1)\n",
    "    y[0] = y0\n",
    "    for t in range(ts_length-1):\n",
    "        k[t+1] = np.log(y[t] - σ_func(y[t]))\n",
    "        y[t+1] = (y[t] - σ_func(y[t]))**α * np.exp(og.μ + og.s * ξ[t])\n",
    "        shocks[t] = np.exp(og.μ + og.s * ξ[t])\n",
    "    return y, k, shocks\n",
    "\n",
    "\n",
    "β=0.96\n",
    "\n",
    "og = OptimalGrowthModel(f, np.log, β=β, s=0.05)\n",
    "y_grid = og.y_grid\n",
    "\n",
    "v_solution = solve_model(og, verbose=False)\n",
    "\n",
    "σ_star = get_greedy(v_solution)\n",
    "σ_func = lambda x: interp(y_grid, σ_star, x)  # Define an optimal policy function\n",
    "y, k, shocks = simulate_og(σ_func, og, α)\n",
    "    \n",
    "vk = round(np.var(k[10:]),5)\n",
    "vtheoretical = round(np.var(shocks[10:])/(1 - α**2),5)\n",
    "\n",
    "print(f\"\\nEmpirical variance is {vk} and theoretical variance is {vtheoretical}.\")\n",
    "print(\"Thus, simulation results correspond to the theoretical result.\")"
   ]
  },
  {
   "cell_type": "markdown",
   "metadata": {
    "hidden": true
   },
   "source": [
    "## Compare the Results to a linearized approximation\n",
    "\n",
    "Now numerically confirm the result from the BrockMirman handout that \n",
    "\n",
    "\\begin{eqnarray}\n",
    "  y_{t+1} & = & \\alpha (y_{t} + \\log \\alpha \\beta ) + \\phi_{t+1}\n",
    "\\end{eqnarray}"
   ]
  },
  {
   "cell_type": "code",
   "execution_count": 7,
   "metadata": {},
   "outputs": [
    {
     "data": {
      "text/plain": [
       "array([ 0.,  0.,  0., -0.,  0., -0., -0., -0.,  0., -0., -0.,  0., -0.,\n",
       "        0., -0., -0.,  0., -0., -0., -0., -0.,  0., -0.,  0.,  0.,  0.,\n",
       "        0.,  0.,  0.,  0., -0.,  0.,  0.,  0.,  0.,  0.,  0.,  0., -0.,\n",
       "        0.,  0.,  0., -0., -0., -0.,  0.,  0.,  0., -0., -0., -0.,  0.,\n",
       "       -0.,  0., -0., -0.,  0., -0., -0., -0., -0., -0., -0.,  0., -0.,\n",
       "        0.,  0., -0., -0., -0., -0., -0., -0.,  0.,  0.,  0.,  0.,  0.,\n",
       "        0., -0.,  0., -0.,  0.,  0.,  0.,  0., -0., -0., -0.,  0.,  0.,\n",
       "       -0.,  0., -0.,  0., -0., -0., -0.,  0., -0., -0.,  0., -0.,  0.,\n",
       "        0.,  0., -0., -0.,  0., -0., -0., -0.,  0., -0.,  0.,  0.,  0.,\n",
       "       -0., -0.,  0.,  0., -0.,  0., -0., -0.,  0., -0.,  0.,  0.,  0.,\n",
       "        0., -0., -0., -0.,  0., -0., -0.,  0.,  0., -0., -0., -0., -0.,\n",
       "        0.,  0., -0., -0.,  0.,  0.,  0.,  0.,  0., -0., -0.,  0.,  0.,\n",
       "       -0., -0., -0., -0.,  0., -0.,  0.,  0.,  0.,  0.,  0.,  0.,  0.,\n",
       "       -0., -0., -0.,  0.,  0., -0., -0., -0.,  0.,  0.,  0., -0., -0.,\n",
       "        0., -0.,  0.,  0., -0., -0., -0.,  0.,  0.,  0.,  0.,  0., -0.,\n",
       "        0.,  0.,  0.,  0., -0.,  0.,  0.,  0.,  0.,  0.,  0., -0., -0.,\n",
       "        0., -0., -0.,  0., -0., -0., -0., -0.,  0.,  0., -0., -0.,  0.,\n",
       "        0.,  0.,  0., -0.,  0., -0.,  0.,  0.,  0., -0., -0.,  0.,  0.,\n",
       "       -0.,  0., -0., -0., -0.,  0.,  0.,  0., -0., -0., -0.,  0.,  0.,\n",
       "        0., -0.,  0., -0., -0., -0., -0., -0.,  0.,  0., -0., -0., -0.,\n",
       "        0.,  0.,  0., -0., -0., -0., -0., -0., -0., -0.,  0., -0.,  0.,\n",
       "        0., -0., -0.,  0., -0.,  0., -0., -0.,  0.,  0., -0., -0., -0.,\n",
       "       -0., -0.,  0., -0., -0., -0., -0.,  0.,  0.,  0.,  0., -0., -0.,\n",
       "        0., -0., -0., -0., -0.,  0.,  0.,  0., -0., -0.,  0.,  0., -0.,\n",
       "       -0., -0., -0., -0., -0., -0.,  0.,  0.,  0., -0., -0., -0.,  0.,\n",
       "        0.,  0.,  0., -0.,  0., -0.,  0., -0., -0.,  0.,  0., -0.,  0.,\n",
       "       -0., -0.,  0.,  0.,  0., -0.,  0.,  0., -0., -0., -0., -0., -0.,\n",
       "       -0.,  0., -0., -0.,  0., -0., -0., -0.,  0., -0., -0.,  0.,  0.,\n",
       "       -0., -0.,  0.,  0.,  0.,  0., -0.,  0.,  0.,  0., -0.,  0., -0.,\n",
       "        0.,  0., -0., -0., -0.,  0.,  0.,  0.,  0., -0., -0., -0.,  0.,\n",
       "       -0., -0., -0., -0., -0., -0.,  0.,  0., -0., -0., -0., -0., -0.,\n",
       "        0., -0., -0., -0.,  0.,  0.,  0.,  0., -0., -0., -0., -0., -0.,\n",
       "        0., -0.,  0.,  0., -0., -0., -0.,  0.,  0.,  0.,  0., -0., -0.,\n",
       "        0.,  0.,  0., -0., -0., -0., -0.,  0.,  0.,  0.,  0.,  0., -0.,\n",
       "       -0.,  0., -0., -0., -0.,  0., -0., -0., -0.,  0.,  0., -0.,  0.,\n",
       "       -0.,  0., -0.,  0., -0., -0.,  0.,  0., -0., -0.,  0.,  0.,  0.,\n",
       "        0.,  0.,  0., -0., -0., -0.,  0., -0., -0., -0.,  0., -0.,  0.,\n",
       "        0.,  0., -0.,  0., -0.,  0.,  0., -0.,  0., -0., -0., -0., -0.,\n",
       "        0., -0., -0.,  0.,  0., -0.])"
      ]
     },
     "execution_count": 7,
     "metadata": {},
     "output_type": "execute_result"
    }
   ],
   "source": [
    "x = np.empty(ts_length)\n",
    "x[0] = 0\n",
    "for t in range(ts_length-1):\n",
    "    x[t+1] = round(np.log(y[t+1]) - α *(np.log(y[t]) + np.log(α*β)) + (og.μ + og.s * ξ[t]),0)\n",
    "    \n",
    "x    "
   ]
  },
  {
   "cell_type": "markdown",
   "metadata": {},
   "source": [
    "# PROBLEM\n",
    "## Suppose $\\phi_{t}$ is serially correlated\n",
    "\n",
    "Now we want to consider a case where the level of productivity $\\epsilon$ is serially correlated:\n",
    "\n",
    "\\begin{eqnarray}\n",
    "\\phi_{t} = \\zeta \\phi_{t-1} + \\nu_{t}\n",
    "\\end{eqnarray}\n",
    "\n",
    "for some shock $\\nu$ with variance $\\sigma^{2}_{\\nu}$ and a serial correlation coefficient $0 < \\zeta < 1$.  Calculate the variance of $k$ under this new assumption."
   ]
  },
  {
   "cell_type": "markdown",
   "metadata": {},
   "source": [
    "## Solution\n",
    "\n",
    "We have:\n",
    "$$ var(k) = \\frac{\\sigma ^2_{\\phi}}{1 - \\alpha^2} $$\n",
    "\n",
    "As $\\phi$ follows an AR(1) process:\n",
    "$$ var(\\phi) = \\frac{var(\\nu)}{1 - \\rho^2} $$\n",
    "\n",
    "Thus:\n",
    "$$ var(k) = \\frac{var(\\nu)}{(1 - \\alpha^2)(1 - \\rho^2)} $$\n"
   ]
  },
  {
   "cell_type": "markdown",
   "metadata": {
    "heading_collapsed": true
   },
   "source": [
    "# PROBLEM\n",
    "## Now Solve and Simulate the Model\n",
    "\n",
    "Use the tools provided on the QuantEcon website to solve the model.  Then, starting with a capital stock equal to the stochastic steady state, simulate the model for 100 periods five separate times.  Compare the variances you have calculated numerically to the formulas you derived analytically, and make some remarks about what this means for trying to calibrate the model to data by examining the variance of $k$ in empirical data."
   ]
  },
  {
   "cell_type": "markdown",
   "metadata": {},
   "source": [
    "## Solution"
   ]
  },
  {
   "cell_type": "code",
   "execution_count": 8,
   "metadata": {},
   "outputs": [
    {
     "name": "stdout",
     "output_type": "stream",
     "text": [
      "\n",
      "Empirical variance is 0.00342 and theoretical variance is 0.0031.\n",
      "Thus, simulation results does not necessarily correspond to the theoretical result, especially if ρ is high.\n"
     ]
    }
   ],
   "source": [
    "ρ = 0.2\n",
    "\n",
    "def simulate_ogc(σ_func, og, α, y0=0.1, ts_length=500):\n",
    "    '''\n",
    "    Compute a time series given consumption policy σ.\n",
    "    '''\n",
    "    y = np.empty(ts_length)\n",
    "    k = np.empty(ts_length)\n",
    "    ξ = 0.05*np.random.randn(ts_length-1)\n",
    "    shocks = np.empty(ts_length)\n",
    "    y[0] = y0\n",
    "    shocks[0] = ξ[0]/(1-ρ**2)\n",
    "    for t in range(ts_length-1):\n",
    "        shocks[t+1] = ρ*shocks[t] + ξ[t]\n",
    "        k[t+1] = np.log(y[t] - σ_func(y[t]))\n",
    "        y[t+1] = (y[t] - σ_func(y[t]))**α * np.exp(shocks[t+1])\n",
    "    return y, k, shocks\n",
    "\n",
    "\n",
    "β=0.96\n",
    "\n",
    "og = OptimalGrowthModel(f, np.log, β=β, s=0.05)\n",
    "y_grid = og.y_grid\n",
    "\n",
    "v_solution = solve_model(og, verbose=False)\n",
    "\n",
    "σ_star = get_greedy(v_solution)\n",
    "σ_func = lambda x: interp(y_grid, σ_star, x)  # Define an optimal policy function\n",
    "y, k, shocks = simulate_ogc(σ_func, og, α)\n",
    "    \n",
    "vk = round(np.var(k[200:]),5)\n",
    "vtheoretical = round(0.05**2/((1 - α**2)*(1 - ρ**2)),5)\n",
    "\n",
    "print(f\"\\nEmpirical variance is {vk} and theoretical variance is {vtheoretical}.\")\n",
    "print(\"Thus, simulation results does not necessarily correspond to the theoretical result, especially if ρ is high.\")\n",
    "\n"
   ]
  },
  {
   "cell_type": "markdown",
   "metadata": {
    "heading_collapsed": true,
    "hidden": true
   },
   "source": [
    "## Now Do a Similar Exercise for the CRRA utility Model\n",
    "\n",
    "Use the QuantEcon code to solve the model for a value of relative risk aversion $\\rho = 3$.  Now calculate the variance of $k$ for this new model in the same way you did for the earlier model.  \n"
   ]
  },
  {
   "cell_type": "code",
   "execution_count": 9,
   "metadata": {},
   "outputs": [
    {
     "name": "stdout",
     "output_type": "stream",
     "text": [
      "\n",
      "Empirical variance is 0.00283.\n"
     ]
    }
   ],
   "source": [
    "α=0.4 \n",
    "β=0.96 \n",
    "μ=0 \n",
    "s=0.05\n",
    "rho=3\n",
    "\n",
    "@njit\n",
    "def crra(c):\n",
    "    return c**(1-rho)/(1-rho) # CRRA Utility\n",
    "\n",
    "\n",
    "og = OptimalGrowthModel(f, crra, β=β, s=0.05)\n",
    "y_grid = og.y_grid\n",
    "\n",
    "v_solution = solve_model(og, verbose=False)\n",
    "\n",
    "σ_star = get_greedy(v_solution)\n",
    "σ_func = lambda x: interp(y_grid, σ_star, x)  # Define an optimal policy function\n",
    "y, k, shocks = simulate_og(σ_func, og, α)\n",
    "    \n",
    "vk = round(np.var(k[10:]),5)\n",
    "\n",
    "print(f\"\\nEmpirical variance is {vk}.\")"
   ]
  }
 ],
 "metadata": {
  "jupytext": {
   "formats": "ipynb,py:percent",
   "text_representation": {
    "extension": ".py",
    "format_name": "percent",
    "format_version": "1.2",
    "jupytext_version": "0.8.6"
   }
  },
  "kernelspec": {
   "display_name": "Python 3",
   "language": "python",
   "name": "python3"
  },
  "language_info": {
   "codemirror_mode": {
    "name": "ipython",
    "version": 3
   },
   "file_extension": ".py",
   "mimetype": "text/x-python",
   "name": "python",
   "nbconvert_exporter": "python",
   "pygments_lexer": "ipython3",
   "version": "3.6.6"
  },
  "latex_envs": {
   "LaTeX_envs_menu_present": true,
   "autoclose": false,
   "autocomplete": true,
   "bibliofile": "biblio.bib",
   "cite_by": "apalike",
   "current_citInitial": 1,
   "eqLabelWithNumbers": true,
   "eqNumInitial": 1,
   "hotkeys": {
    "equation": "Ctrl-E",
    "itemize": "Ctrl-I"
   },
   "labels_anchors": false,
   "latex_user_defs": false,
   "report_style_numbering": false,
   "user_envs_cfg": false
  },
  "varInspector": {
   "cols": {
    "lenName": 16,
    "lenType": 16,
    "lenVar": 40
   },
   "kernels_config": {
    "python": {
     "delete_cmd_postfix": "",
     "delete_cmd_prefix": "del ",
     "library": "var_list.py",
     "varRefreshCmd": "print(var_dic_list())"
    },
    "r": {
     "delete_cmd_postfix": ") ",
     "delete_cmd_prefix": "rm(",
     "library": "var_list.r",
     "varRefreshCmd": "cat(var_dic_list()) "
    }
   },
   "types_to_exclude": [
    "module",
    "function",
    "builtin_function_or_method",
    "instance",
    "_Feature"
   ],
   "window_display": false
  }
 },
 "nbformat": 4,
 "nbformat_minor": 2
}
